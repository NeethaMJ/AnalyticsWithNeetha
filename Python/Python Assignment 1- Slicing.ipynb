{
 "cells": [
  {
   "cell_type": "markdown",
   "id": "80b2cf83",
   "metadata": {},
   "source": [
    "# PART1 - BASIC SLICING"
   ]
  },
  {
   "cell_type": "markdown",
   "id": "50ce1cf8",
   "metadata": {},
   "source": [
    "1. Introduction to Slicing:\n",
    "a. Given a string s = \"Hello, World!\", slice and print the following:\n",
    "i. The entire string.\n",
    "ii. The first 5 characters.\n",
    "iii. The last 5 characters.\n",
    "iv. The string excludes the first and last characters.\n",
    "v. Every second character in the string.\n"
   ]
  },
  {
   "cell_type": "code",
   "execution_count": 6,
   "id": "0f3fa0aa",
   "metadata": {},
   "outputs": [],
   "source": [
    "s=\"Hello,world!\""
   ]
  },
  {
   "cell_type": "code",
   "execution_count": 7,
   "id": "535a2434",
   "metadata": {},
   "outputs": [
    {
     "name": "stdout",
     "output_type": "stream",
     "text": [
      "Hello,world!\n"
     ]
    }
   ],
   "source": [
    "print(s)"
   ]
  },
  {
   "cell_type": "code",
   "execution_count": 11,
   "id": "bec6db8b",
   "metadata": {},
   "outputs": [
    {
     "data": {
      "text/plain": [
       "'Hello'"
      ]
     },
     "execution_count": 11,
     "metadata": {},
     "output_type": "execute_result"
    }
   ],
   "source": [
    "s[0:5]"
   ]
  },
  {
   "cell_type": "code",
   "execution_count": 13,
   "id": "8cea645b",
   "metadata": {},
   "outputs": [
    {
     "data": {
      "text/plain": [
       "'orld!'"
      ]
     },
     "execution_count": 13,
     "metadata": {},
     "output_type": "execute_result"
    }
   ],
   "source": [
    "s[-5:]"
   ]
  },
  {
   "cell_type": "code",
   "execution_count": 15,
   "id": "e4ad77f7",
   "metadata": {},
   "outputs": [
    {
     "data": {
      "text/plain": [
       "'ello,world'"
      ]
     },
     "execution_count": 15,
     "metadata": {},
     "output_type": "execute_result"
    }
   ],
   "source": [
    "s[1:11]"
   ]
  },
  {
   "cell_type": "code",
   "execution_count": 20,
   "id": "cd0b1fa8",
   "metadata": {},
   "outputs": [
    {
     "data": {
      "text/plain": [
       "'Hlowrd'"
      ]
     },
     "execution_count": 20,
     "metadata": {},
     "output_type": "execute_result"
    }
   ],
   "source": [
    "s[0:-1:2]"
   ]
  },
  {
   "cell_type": "code",
   "execution_count": 21,
   "id": "b8537f94",
   "metadata": {},
   "outputs": [
    {
     "data": {
      "text/plain": [
       "'!'"
      ]
     },
     "execution_count": 21,
     "metadata": {},
     "output_type": "execute_result"
    }
   ],
   "source": [
    "s[-1]"
   ]
  },
  {
   "cell_type": "code",
   "execution_count": 22,
   "id": "a95d2eba",
   "metadata": {},
   "outputs": [
    {
     "data": {
      "text/plain": [
       "'H'"
      ]
     },
     "execution_count": 22,
     "metadata": {},
     "output_type": "execute_result"
    }
   ],
   "source": [
    "s[-0]"
   ]
  },
  {
   "cell_type": "code",
   "execution_count": 23,
   "id": "044214dd",
   "metadata": {},
   "outputs": [
    {
     "data": {
      "text/plain": [
       "'H'"
      ]
     },
     "execution_count": 23,
     "metadata": {},
     "output_type": "execute_result"
    }
   ],
   "source": [
    "s[0]"
   ]
  },
  {
   "cell_type": "markdown",
   "id": "a6b6298b",
   "metadata": {},
   "source": [
    "2. Slicing with Negative Indices:\n",
    "\n",
    "a. Use negative indices to slice and print the following from the string\n",
    "s:\n",
    "1. The last 3 characters.\n",
    "2. All characters except the last 2.\n",
    "3. The string reversed."
   ]
  },
  {
   "cell_type": "code",
   "execution_count": 27,
   "id": "f9b93c3f",
   "metadata": {},
   "outputs": [
    {
     "data": {
      "text/plain": [
       "'rld'"
      ]
     },
     "execution_count": 27,
     "metadata": {},
     "output_type": "execute_result"
    }
   ],
   "source": [
    "s[-4:-1]"
   ]
  },
  {
   "cell_type": "code",
   "execution_count": 28,
   "id": "c711a8d0",
   "metadata": {},
   "outputs": [
    {
     "data": {
      "text/plain": [
       "'Hello,wor'"
      ]
     },
     "execution_count": 28,
     "metadata": {},
     "output_type": "execute_result"
    }
   ],
   "source": [
    "s[:-3]"
   ]
  },
  {
   "cell_type": "code",
   "execution_count": 30,
   "id": "3d5a4c8e",
   "metadata": {},
   "outputs": [
    {
     "data": {
      "text/plain": [
       "'!dlrow,olleH'"
      ]
     },
     "execution_count": 30,
     "metadata": {},
     "output_type": "execute_result"
    }
   ],
   "source": [
    "s[::-1]"
   ]
  },
  {
   "cell_type": "markdown",
   "id": "57cabff6",
   "metadata": {},
   "source": [
    "# Part 2: Advanced Slicing"
   ]
  },
  {
   "cell_type": "markdown",
   "id": "e88d97b0",
   "metadata": {},
   "source": [
    "1. Slicing Substrings:\n",
    "a. Given a string sentence = \"The quick brown fox jumps over the lazy\n",
    "dog\", \n",
    "slice and print the following:\n",
    "\n",
    "i. The word \"quick\".\n",
    "ii. The word \"lazy\".\n",
    "iii. The words \"brown fox jumps\"\n"
   ]
  },
  {
   "cell_type": "code",
   "execution_count": 34,
   "id": "c6de24e4",
   "metadata": {},
   "outputs": [],
   "source": [
    "sentence=\"The quick brown fox jumps over the lazy dog\""
   ]
  },
  {
   "cell_type": "code",
   "execution_count": 35,
   "id": "53d6688b",
   "metadata": {},
   "outputs": [
    {
     "data": {
      "text/plain": [
       "'quick'"
      ]
     },
     "execution_count": 35,
     "metadata": {},
     "output_type": "execute_result"
    }
   ],
   "source": [
    "sentence[4:9]"
   ]
  },
  {
   "cell_type": "code",
   "execution_count": 36,
   "id": "7b8d36a1",
   "metadata": {},
   "outputs": [
    {
     "data": {
      "text/plain": [
       "'lazy'"
      ]
     },
     "execution_count": 36,
     "metadata": {},
     "output_type": "execute_result"
    }
   ],
   "source": [
    "sentence[35:39]"
   ]
  },
  {
   "cell_type": "code",
   "execution_count": 37,
   "id": "db95dfe2",
   "metadata": {},
   "outputs": [
    {
     "data": {
      "text/plain": [
       "'brown fox jumps '"
      ]
     },
     "execution_count": 37,
     "metadata": {},
     "output_type": "execute_result"
    }
   ],
   "source": [
    "sentence[10:26]"
   ]
  },
  {
   "cell_type": "markdown",
   "id": "b8e4a188",
   "metadata": {},
   "source": [
    "2. Step Slicing:\n",
    "a. Use step slicing to print the following from the string s:\n",
    "i. Every third character.\n",
    "ii. Every third character starting from the second character.\n",
    "iii. The string reversed, stepping by 2."
   ]
  },
  {
   "cell_type": "code",
   "execution_count": 41,
   "id": "744f5333",
   "metadata": {},
   "outputs": [],
   "source": [
    " sentence = \"Hello, World!\""
   ]
  },
  {
   "cell_type": "code",
   "execution_count": 42,
   "id": "f12219f6",
   "metadata": {},
   "outputs": [
    {
     "data": {
      "text/plain": [
       "'Hl r!'"
      ]
     },
     "execution_count": 42,
     "metadata": {},
     "output_type": "execute_result"
    }
   ],
   "source": [
    "sentence[::3]\n"
   ]
  },
  {
   "cell_type": "code",
   "execution_count": 43,
   "id": "9545d78a",
   "metadata": {},
   "outputs": [
    {
     "data": {
      "text/plain": [
       "'eoWl'"
      ]
     },
     "execution_count": 43,
     "metadata": {},
     "output_type": "execute_result"
    }
   ],
   "source": [
    "sentence[1::3]\n"
   ]
  },
  {
   "cell_type": "code",
   "execution_count": 44,
   "id": "f863f633",
   "metadata": {},
   "outputs": [
    {
     "data": {
      "text/plain": [
       "'!lo olH'"
      ]
     },
     "execution_count": 44,
     "metadata": {},
     "output_type": "execute_result"
    }
   ],
   "source": [
    "sentence[::-2]\n"
   ]
  },
  {
   "cell_type": "markdown",
   "id": "3b5af8b7",
   "metadata": {},
   "source": [
    "# Part 3: Practical Application"
   ]
  },
  {
   "cell_type": "markdown",
   "id": "3782198f",
   "metadata": {},
   "source": [
    "1. Extracting Information:\n",
    "\n",
    "a. Given a string data = \"2024-09-01,Sunny,25°C\", extract and print\n",
    "the following:\n",
    "\n",
    "i. The date.\n",
    "ii. The weather condition.\n",
    "iii. The temperature"
   ]
  },
  {
   "cell_type": "code",
   "execution_count": 46,
   "id": "d601e5e1",
   "metadata": {},
   "outputs": [],
   "source": [
    "data = \"2024-09-01,Sunny,25°C\""
   ]
  },
  {
   "cell_type": "code",
   "execution_count": 49,
   "id": "71508d5a",
   "metadata": {},
   "outputs": [
    {
     "data": {
      "text/plain": [
       "'2024-09-01'"
      ]
     },
     "execution_count": 49,
     "metadata": {},
     "output_type": "execute_result"
    }
   ],
   "source": [
    "data[0:10]"
   ]
  },
  {
   "cell_type": "code",
   "execution_count": 53,
   "id": "0e37a27c",
   "metadata": {},
   "outputs": [
    {
     "data": {
      "text/plain": [
       "'Sunny'"
      ]
     },
     "execution_count": 53,
     "metadata": {},
     "output_type": "execute_result"
    }
   ],
   "source": [
    "data[11:16]"
   ]
  },
  {
   "cell_type": "code",
   "execution_count": 54,
   "id": "f3ff8ad7",
   "metadata": {},
   "outputs": [
    {
     "data": {
      "text/plain": [
       "'25°'"
      ]
     },
     "execution_count": 54,
     "metadata": {},
     "output_type": "execute_result"
    }
   ],
   "source": [
    "data[17:20]"
   ]
  },
  {
   "cell_type": "markdown",
   "id": "30e60239",
   "metadata": {},
   "source": [
    "2. Reformatting Strings:\n",
    "\n",
    "i. Given a string phone_number = \"(123) 456-7890\", reformat\n",
    "it to ‘123-456-7890’"
   ]
  },
  {
   "cell_type": "code",
   "execution_count": 55,
   "id": "d609ce5c",
   "metadata": {},
   "outputs": [],
   "source": [
    "phone_number = \"(123) 456-7890\""
   ]
  },
  {
   "cell_type": "code",
   "execution_count": 62,
   "id": "25f7c02a",
   "metadata": {},
   "outputs": [
    {
     "name": "stdout",
     "output_type": "stream",
     "text": [
      "123-456-7890\n"
     ]
    }
   ],
   "source": [
    "reformatted_string = phone_number.replace(\"(\", \"\").replace(\")\", \"\")\n",
    "reformatted_string = reformatted_string.replace(\" \", \"-\")\n",
    "print(reformatted_string)"
   ]
  },
  {
   "cell_type": "markdown",
   "id": "34b9d4c8",
   "metadata": {},
   "source": [
    "# PART4 : Questions based on string methods"
   ]
  },
  {
   "cell_type": "markdown",
   "id": "d93d8a2d",
   "metadata": {},
   "source": [
    "1. Upper and Lower Case Conversion:\n",
    "    \n",
    "i. Given a string s = \"Hello, World!\", \n",
    "perform the following:\n",
    "    \n",
    "b. Convert the string to all uppercase letters.\n",
    "c. Convert the string to all lowercase letters.\n",
    "d. Convert the string to title case.\n",
    "e. Capitalize the first letter of the string. "
   ]
  },
  {
   "cell_type": "code",
   "execution_count": 63,
   "id": "9e4b1367",
   "metadata": {},
   "outputs": [
    {
     "name": "stdout",
     "output_type": "stream",
     "text": [
      "Original String: Hello, World!\n",
      "Uppercase: HELLO, WORLD!\n",
      "Lowercase: hello, world!\n",
      "Title Case: Hello, World!\n",
      "Capitalized: Hello, world!\n"
     ]
    }
   ],
   "source": [
    "s = \"Hello, World!\"\n",
    "\n",
    "print(\"Original String:\", s)\n",
    "print(\"Uppercase:\", s.upper())\n",
    "print(\"Lowercase:\", s.lower())\n",
    "print(\"Title Case:\", s.title())\n",
    "print(\"Capitalized:\", s.capitalize())"
   ]
  },
  {
   "cell_type": "markdown",
   "id": "d35d410a",
   "metadata": {},
   "source": [
    "2. Finding Substrings:\n",
    " Given a string s = \"The quick brown fox jumps over the lazy dog\",\n",
    "perform the following:\n",
    "a. Find the position of the substring \"fox\".\n",
    "b. Check if the substring \"cat\" is in the string."
   ]
  },
  {
   "cell_type": "code",
   "execution_count": 64,
   "id": "47f8bc2f",
   "metadata": {},
   "outputs": [
    {
     "name": "stdout",
     "output_type": "stream",
     "text": [
      "Position of 'fox': 16\n",
      "Is 'cat' in the string?: False\n"
     ]
    }
   ],
   "source": [
    "s = \"The quick brown fox jumps over the lazy dog\"\n",
    "\n",
    "# a. Find the position of the substring \"fox\"\n",
    "position = s.find(\"fox\")\n",
    "print(\"Position of 'fox':\", position)\n",
    "\n",
    "# b. Check if \"cat\" is in the string\n",
    "contains_cat = \"cat\" in s\n",
    "print(\"Is 'cat' in the string?:\", contains_cat)\n"
   ]
  },
  {
   "cell_type": "markdown",
   "id": "34b81e98",
   "metadata": {},
   "source": [
    "3. Replacing Substrings:\n",
    " Given a string s = \"The quick brown fox jumps over the lazy dog\",\n",
    "perform the following:\n",
    "\n",
    "a. Replace \"fox\" with \"cat\".\n",
    "b. Replace all spaces with underscores.\n",
    "c. Split the string into a list of words.\n",
    "d. Split the string by the letter 'o'."
   ]
  },
  {
   "cell_type": "code",
   "execution_count": 65,
   "id": "18bfa72c",
   "metadata": {},
   "outputs": [
    {
     "name": "stdout",
     "output_type": "stream",
     "text": [
      "a. Replace 'fox' with 'cat': The quick brown cat jumps over the lazy dog\n",
      "b. Replace spaces with underscores: The_quick_brown_fox_jumps_over_the_lazy_dog\n",
      "c. Split into words: ['The', 'quick', 'brown', 'fox', 'jumps', 'over', 'the', 'lazy', 'dog']\n",
      "d. Split by 'o': ['The quick br', 'wn f', 'x jumps ', 'ver the lazy d', 'g']\n"
     ]
    }
   ],
   "source": [
    "s = \"The quick brown fox jumps over the lazy dog\"\n",
    "\n",
    "# a. Replace \"fox\" with \"cat\"\n",
    "s1 = s.replace(\"fox\", \"cat\")\n",
    "print(\"a. Replace 'fox' with 'cat':\", s1)\n",
    "\n",
    "# b. Replace all spaces with underscores\n",
    "s2 = s.replace(\" \", \"_\")\n",
    "print(\"b. Replace spaces with underscores:\", s2)\n",
    "\n",
    "# c. Split the string into a list of words\n",
    "word_list = s.split()\n",
    "print(\"c. Split into words:\", word_list)\n",
    "\n",
    "# d. Split the string by the letter 'o'\n",
    "split_by_o = s.split(\"o\")\n",
    "print(\"d. Split by 'o':\", split_by_o)\n"
   ]
  },
  {
   "cell_type": "markdown",
   "id": "2c322186",
   "metadata": {},
   "source": [
    "g Strings:\n",
    " Given a list of words\n",
    " words = [\"The\", \"quick\", \"brown\", \"fox\"],\n",
    " perform the following:\n",
    "a. Join the words with spaces.\n",
    "b. Join the words with hyphens"
   ]
  },
  {
   "cell_type": "code",
   "execution_count": 66,
   "id": "ed6eeb9d",
   "metadata": {},
   "outputs": [
    {
     "name": "stdout",
     "output_type": "stream",
     "text": [
      "a. Joined with spaces: The quick brown fox\n",
      "b. Joined with hyphens: The-quick-brown-fox\n"
     ]
    }
   ],
   "source": [
    "words = [\"The\", \"quick\", \"brown\", \"fox\"]\n",
    "\n",
    "# a. Join the words with spaces\n",
    "joined_with_space = \" \".join(words)\n",
    "print(\"a. Joined with spaces:\", joined_with_space)\n",
    "\n",
    "# b. Join the words with hyphens\n",
    "joined_with_hyphen = \"-\".join(words)\n",
    "print(\"b. Joined with hyphens:\", joined_with_hyphen)\n"
   ]
  },
  {
   "cell_type": "code",
   "execution_count": null,
   "id": "809dc82b",
   "metadata": {},
   "outputs": [],
   "source": []
  }
 ],
 "metadata": {
  "kernelspec": {
   "display_name": "Python 3 (ipykernel)",
   "language": "python",
   "name": "python3"
  },
  "language_info": {
   "codemirror_mode": {
    "name": "ipython",
    "version": 3
   },
   "file_extension": ".py",
   "mimetype": "text/x-python",
   "name": "python",
   "nbconvert_exporter": "python",
   "pygments_lexer": "ipython3",
   "version": "3.11.4"
  }
 },
 "nbformat": 4,
 "nbformat_minor": 5
}
